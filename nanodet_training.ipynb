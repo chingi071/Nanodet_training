{
 "cells": [
  {
   "cell_type": "code",
   "execution_count": null,
   "metadata": {
    "id": "hUBu8dWKU87Q"
   },
   "outputs": [],
   "source": [
    "from google.colab import drive\n",
    "drive.mount('/content/drive')"
   ]
  },
  {
   "cell_type": "code",
   "execution_count": null,
   "metadata": {
    "id": "Z0a9DffJVITo"
   },
   "outputs": [],
   "source": [
    "%cd drive/MyDrive/nanodet"
   ]
  },
  {
   "cell_type": "markdown",
   "metadata": {
    "id": "LaeBZWyqVQVQ"
   },
   "source": [
    "# 準備資料集"
   ]
  },
  {
   "cell_type": "code",
   "execution_count": null,
   "metadata": {
    "id": "UCjFzlZrIw6c"
   },
   "outputs": [],
   "source": [
    "import json\n",
    "import zipfile\n",
    "import os\n",
    "api_token = {\"username\":\"<username>\",\"key\":\"<key>\"}\n",
    "\n",
    "if not os.path.exists(\"/root/.kaggle\"):\n",
    "    os.makedirs(\"/root/.kaggle\")\n",
    " \n",
    "with open('/root/.kaggle/kaggle.json', 'w') as file:\n",
    "    json.dump(api_token, file)"
   ]
  },
  {
   "cell_type": "code",
   "execution_count": null,
   "metadata": {
    "id": "iXhgVXknIqza"
   },
   "outputs": [],
   "source": [
    "! mkdir data_fruit\n",
    "%cd data_fruit\n",
    "! kaggle datasets download -d mbkinaci/fruit-images-for-object-detection --force"
   ]
  },
  {
   "cell_type": "code",
   "execution_count": null,
   "metadata": {
    "id": "oqMmQ5_dV6jh"
   },
   "outputs": [],
   "source": [
    "! unzip fruit-images-for-object-detection.zip"
   ]
  },
  {
   "cell_type": "markdown",
   "metadata": {
    "id": "QBCX-GeqLBRv"
   },
   "source": [
    "# 建立 nanodet"
   ]
  },
  {
   "cell_type": "code",
   "execution_count": null,
   "metadata": {
    "id": "asGbPW-SV6vQ"
   },
   "outputs": [],
   "source": [
    "! git clone https://github.com/RangiLyu/nanodet.git"
   ]
  },
  {
   "cell_type": "code",
   "execution_count": null,
   "metadata": {
    "id": "w4kvF1KxLHky"
   },
   "outputs": [],
   "source": [
    "%cd nanodet"
   ]
  },
  {
   "cell_type": "code",
   "execution_count": null,
   "metadata": {
    "id": "pIEJffJwbmGH"
   },
   "outputs": [],
   "source": [
    "! python setup.py develop"
   ]
  },
  {
   "cell_type": "markdown",
   "metadata": {
    "id": "pL4IKLUvKziO"
   },
   "source": [
    "# 使用 xml 訓練"
   ]
  },
  {
   "cell_type": "code",
   "execution_count": null,
   "metadata": {
    "id": "UHgCZs5Q0V-Z"
   },
   "outputs": [],
   "source": [
    "# 修改 nanodet_custom_xml_dataset.yml"
   ]
  },
  {
   "cell_type": "code",
   "execution_count": null,
   "metadata": {
    "id": "ld2sMnO0fHuB"
   },
   "outputs": [],
   "source": [
    "! python tools/train.py config/nanodet_custom_xml_dataset.yml"
   ]
  },
  {
   "cell_type": "markdown",
   "metadata": {
    "id": "qlRNcYxGK5Uw"
   },
   "source": [
    "# 使用 coco 訓練"
   ]
  },
  {
   "cell_type": "markdown",
   "metadata": {
    "id": "OuYcQWefr0Kf"
   },
   "source": [
    "## 將 xml 轉換為 json 格式"
   ]
  },
  {
   "cell_type": "code",
   "execution_count": null,
   "metadata": {
    "id": "kB-cu44-Xlj3"
   },
   "outputs": [],
   "source": [
    "%cd ..\n",
    "! mkdir data"
   ]
  },
  {
   "cell_type": "code",
   "execution_count": null,
   "metadata": {
    "id": "kqw_7TY4V6tH"
   },
   "outputs": [],
   "source": [
    "! python move_img_to_file.py"
   ]
  },
  {
   "cell_type": "code",
   "execution_count": null,
   "metadata": {
    "id": "Fp3TmcojsoaY"
   },
   "outputs": [],
   "source": [
    "! apt install subversion"
   ]
  },
  {
   "cell_type": "code",
   "execution_count": null,
   "metadata": {
    "id": "8-C-mloMsVAI"
   },
   "outputs": [],
   "source": [
    "# 下載轉換格式的 github:  https://github.com/jinfagang/alfred/tree/master/alfred/modules/data\n",
    "! svn checkout https://github.com/jinfagang/alfred/trunk/alfred/modules/data convert"
   ]
  },
  {
   "cell_type": "code",
   "execution_count": null,
   "metadata": {
    "id": "T0ERZAnnfQok"
   },
   "outputs": [],
   "source": [
    "! pip install alfred-py"
   ]
  },
  {
   "cell_type": "code",
   "execution_count": null,
   "metadata": {
    "id": "xac-u_VPjYQd"
   },
   "outputs": [],
   "source": [
    "! python convert/voc2coco.py data_fruit/train_zip/train data/train_annotations/train.json"
   ]
  },
  {
   "cell_type": "code",
   "execution_count": null,
   "metadata": {
    "id": "PkP8BvpofWmo"
   },
   "outputs": [],
   "source": [
    "! python convert/voc2coco.py data_fruit/test_zip/test data/test_annotations/test.json"
   ]
  },
  {
   "cell_type": "markdown",
   "metadata": {
    "id": "UF_7T7V8YyBP"
   },
   "source": [
    "## nanodet 訓練"
   ]
  },
  {
   "cell_type": "code",
   "execution_count": null,
   "metadata": {
    "id": "f23cRNCvuqv6"
   },
   "outputs": [],
   "source": [
    "# 修改 config/RepVGG/nanodet-RepVGG-A0_416.yml"
   ]
  },
  {
   "cell_type": "code",
   "execution_count": null,
   "metadata": {
    "id": "ZheykZNzPGlR"
   },
   "outputs": [],
   "source": [
    "! python tools/train.py config/RepVGG/nanodet-RepVGG-A0_416.yml"
   ]
  },
  {
   "cell_type": "markdown",
   "metadata": {
    "id": "sA1OtRn3U-fi"
   },
   "source": [
    "# 轉換模型 .pth → .onnx"
   ]
  },
  {
   "cell_type": "code",
   "execution_count": null,
   "metadata": {
    "id": "YlAfunf4TFCP"
   },
   "outputs": [],
   "source": [
    "# 更改 export.py"
   ]
  },
  {
   "cell_type": "code",
   "execution_count": null,
   "metadata": {
    "id": "xAeV0zOLTFAD"
   },
   "outputs": [],
   "source": [
    "! python tools/export.py "
   ]
  },
  {
   "cell_type": "code",
   "execution_count": null,
   "metadata": {
    "id": "bAKe6aTaHErh"
   },
   "outputs": [],
   "source": []
  }
 ],
 "metadata": {
  "accelerator": "GPU",
  "colab": {
   "collapsed_sections": [],
   "name": "nanodet_training.ipynb",
   "private_outputs": true,
   "provenance": [],
   "toc_visible": true
  },
  "kernelspec": {
   "display_name": "Python 3",
   "language": "python",
   "name": "python3"
  },
  "language_info": {
   "codemirror_mode": {
    "name": "ipython",
    "version": 3
   },
   "file_extension": ".py",
   "mimetype": "text/x-python",
   "name": "python",
   "nbconvert_exporter": "python",
   "pygments_lexer": "ipython3",
   "version": "3.7.1"
  }
 },
 "nbformat": 4,
 "nbformat_minor": 1
}
